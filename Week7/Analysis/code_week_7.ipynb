{
 "cells": [
  {
   "cell_type": "code",
   "execution_count": 1,
   "metadata": {},
   "outputs": [
    {
     "name": "stderr",
     "output_type": "stream",
     "text": [
      "/home/rr4398/.local/lib/python3.8/site-packages/numpy/core/getlimits.py:518: UserWarning: The value of the smallest subnormal for <class 'numpy.float64'> type is zero.\n",
      "  setattr(self, word, getattr(machar, word).flat[0])\n",
      "/home/rr4398/.local/lib/python3.8/site-packages/numpy/core/getlimits.py:89: UserWarning: The value of the smallest subnormal for <class 'numpy.float64'> type is zero.\n",
      "  return self._float_to_str(self.smallest_subnormal)\n",
      "/home/rr4398/.local/lib/python3.8/site-packages/numpy/core/getlimits.py:518: UserWarning: The value of the smallest subnormal for <class 'numpy.float32'> type is zero.\n",
      "  setattr(self, word, getattr(machar, word).flat[0])\n",
      "/home/rr4398/.local/lib/python3.8/site-packages/numpy/core/getlimits.py:89: UserWarning: The value of the smallest subnormal for <class 'numpy.float32'> type is zero.\n",
      "  return self._float_to_str(self.smallest_subnormal)\n"
     ]
    }
   ],
   "source": [
    "import mdtraj as md\n",
    "import matplotlib.pyplot as plt\n",
    "import numpy as np"
   ]
  },
  {
   "cell_type": "code",
   "execution_count": 4,
   "metadata": {},
   "outputs": [],
   "source": [
    "crystal_structure = md.load('../Inputs/6d1r.pdb')\n",
    "\n",
    "# Here we are selecting alpha carbons for one and all atoms for the other RMSD calculation\n",
    "alpha_carbon_indices = crystal_structure.topology.select('name CA')\n",
    "all_atom_indices=crystal_structure.topology.select('backbone or sidechain')\n",
    "# all_atom_indices = np.arange(crystal_structure.n_atoms)\n",
    "rmsd_alpha_carbons = []\n",
    "rmsd_full_backbone = []\n",
    "\n",
    "for i in range(1,6):\n",
    "    predicted_structure =md.load(f'../Inputs/1LYS/relaxed_model_{i}_pred_0.pdb') \n",
    "    # Align and calculate RMSD for alpha carbons\n",
    "    predicted_structure_aligned = predicted_structure.superpose(crystal_structure, atom_indices=alpha_carbon_indices)\n",
    "    rmsd_alpha = md.rmsd(predicted_structure_aligned, crystal_structure, atom_indices=alpha_carbon_indices)\n",
    "    rmsd_alpha_carbons.append(rmsd_alpha[0])  # md.rmsd returns a numpy array, get the first element\n",
    "\n",
    "    # Align and calculate RMSD for full structure\n",
    "    predicted_structure_aligned = predicted_structure.superpose(crystal_structure,atom_indices=all_atom_indices)\n",
    "    rmsd_full = md.rmsd(predicted_structure_aligned, crystal_structure,atom_indices=all_atom_indices)\n",
    "    rmsd_full_backbone.append(rmsd_full[0])  # Again, get the first element"
   ]
  },
  {
   "cell_type": "code",
   "execution_count": 11,
   "metadata": {},
   "outputs": [
    {
     "data": {
      "image/png": "[encoded data removed]",
      "text/plain": [
       "<Figure size 432x288 with 1 Axes>"
      ]
     },
     "metadata": {
      "needs_background": "light"
     },
     "output_type": "display_data"
    }
   ],
   "source": [
    "# Now we can plot the RMSD values\n",
    "fig, ax = plt.subplots()\n",
    "bar1=ax.bar(np.arange(len(rmsd_alpha_carbons))-0.2, rmsd_alpha_carbons, width=0.4,label='Alpha Carbons', color='red')\n",
    "bar2=ax.bar(np.arange(len(rmsd_full_backbone))+0.2, rmsd_full_backbone, width=0.4,label='Full Structure', color='yellow')\n",
    "ax.set_ylabel('RMSD to Crystal (Å)')\n",
    "\n",
    "ax.set_title('RMSD of Top 5 AlphaFold Crystal Structure')\n",
    "ax.set_xticks(np.arange(len(rmsd_alpha_carbons)))\n",
    "ax.set_xticklabels([f'Rank {i}' for i in range(1,6)])\n",
    "ax.legend()\n",
    "plt.savefig('rmsd_plot.pdf')"
   ]
  },
  {
   "cell_type": "code",
   "execution_count": null,
   "metadata": {},
   "outputs": [],
   "source": []
  },
  {
   "cell_type": "code",
   "execution_count": null,
   "metadata": {},
   "outputs": [],
   "source": []
  }
 ],
 "metadata": {
  "kernelspec": {
   "display_name": "Python 3",
   "language": "python",
   "name": "python3"
  },
  "language_info": {
   "codemirror_mode": {
    "name": "ipython",
    "version": 3
   },
   "file_extension": ".py",
   "mimetype": "text/x-python",
   "name": "python",
   "nbconvert_exporter": "python",
   "pygments_lexer": "ipython3",
   "version": "3.8.6"
  }
 },
 "nbformat": 4,
 "nbformat_minor": 4
}

{
 "cells": [
  {
   "cell_type": "code",
   "execution_count": null,
   "metadata": {},
   "outputs": [],
   "source": [
    "import numpy as np\n",
    "import matplotlib.pyplot as plt\n",
    "import mdtraj as md\n",
    "import os\n",
    "os.chdir('/home/rr4398/comp-lab-class/comp-lab-class-2023/Week2/Analysis')\n",
    "traj = md.load_xtc('/home/rr4398/comp-lab-class/comp-lab-class-2023/Week2/Data/1hz3_T310.stepid25000000.every100ps.nowater.xtc', top='/home/rr4398/comp-lab-class/comp-lab-class-2023/Week2/Data/1hz3_T310.start.nowater.gro')\n",
    "# Calculate the end-to-end distance\n",
    "end_to_end_distance = md.compute_distances(traj, [[0, traj.n_atoms - 1]])\n",
    "# Calculate the radius of gyration\n",
    "radius_of_gyration = md.compute_rg(traj)\n",
    "time = np.arange(0, traj.n_frames) * traj.timestep\n",
    "plt.figure(figsize=(10, 6))  # Adjust the figure size as needed\n",
    "# Plot end-to-end distance vs. time\n",
    "plt.plot(time, end_to_end_distance, label='End-to-End Distance', marker='o', linestyle='-')\n",
    "# Plot radius of gyration vs. time on the same y-axis\n",
    "plt.plot(time, radius_of_gyration, label='Radius of Gyration', marker='x', linestyle='--')\n",
    "# Label the axes and add a legend\n",
    "plt.xlabel('Time (ps)')\n",
    "plt.ylabel('Distance / Gyration Radius')\n",
    "plt.legend()\n",
    "# Add a title\n",
    "plt.title('End-to-End Distance and Radius of Gyration vs. Time')\n",
    "plt.subplots_adjust(wspace=0,hspace=0,left=0.15)\n",
    "plt.savefig('../Figures/gyration_and_dist.pdf', dpi=500)\n",
    "# Show the plot\n",
    "plt.grid(True)\n",
    "plt.show()"
   ]
  }
 ],
 "metadata": {
  "kernelspec": {
   "display_name": "Python 3",
   "language": "python",
   "name": "python3"
  },
  "language_info": {
   "codemirror_mode": {
    "name": "ipython",
    "version": 3
   },
   "file_extension": ".py",
   "mimetype": "text/x-python",
   "name": "python",
   "nbconvert_exporter": "python",
   "pygments_lexer": "ipython3",
   "version": "3.8.6"
  }
 },
 "nbformat": 4,
 "nbformat_minor": 4
}

{
 "cells": [
  {
   "cell_type": "code",
   "execution_count": null,
   "metadata": {},
   "outputs": [],
   "source": [
    "import numpy as np\n",
    "import matplotlib.pyplot as plt\n",
    "\n",
    "# Load data from the .txt file\n",
    "data = np.genfromtxt(\"data2.txt\", skip_header=1, names=True)\n",
    "\n",
    "# Create a figure and axis\n",
    "fig, ax = plt.subplots(figsize=(10, 6))\n",
    "\n",
    "# Plot each column of data except the first one (assuming it's \"Time\")\n",
    "for i, column_name in enumerate(data.dtype.names):\n",
    "    if i != 0:  # Skip the first column (assuming it's \"Time\")\n",
    "        ax.plot(data[column_name], label=column_name)\n",
    "\n",
    "# Set labels and title\n",
    "ax.set_xlabel(\"Time\")\n",
    "ax.set_ylabel(\"K.E/Temp\")\n",
    "ax.set_title(\"K.E and Temp\")\n",
    "\n",
    "# Add a legend with labels from column names\n",
    "ax.legend(loc='upper right')\n",
    "\n",
    "# Save the plot as a PDF\n",
    "plt.savefig('../Figures/plot_KE_and_temp.pdf')\n",
    "\n",
    "# Show the plot (optional)\n",
    "plt.show()\n"
   ]
  }
 ],
 "metadata": {
  "kernelspec": {
   "display_name": "Python 3",
   "language": "python",
   "name": "python3"
  },
  "language_info": {
   "codemirror_mode": {
    "name": "ipython",
    "version": 3
   },
   "file_extension": ".py",
   "mimetype": "text/x-python",
   "name": "python",
   "nbconvert_exporter": "python",
   "pygments_lexer": "ipython3",
   "version": "3.8.6"
  }
 },
 "nbformat": 4,
 "nbformat_minor": 4
}

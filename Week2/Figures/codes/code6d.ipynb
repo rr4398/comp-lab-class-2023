{
 "cells": [
  {
   "cell_type": "code",
   "execution_count": null,
   "metadata": {},
   "outputs": [],
   "source": [
    "import numpy as np\n",
    "import matplotlib.pyplot as plt\n",
    "import mdtraj as md\n",
    "import os\n",
    "os.chdir('/home/rr4398/comp-lab-class/comp-lab-class-2023/Week2/Analysis')\n",
    "traj = md.load_xtc('/home/rr4398/comp-lab-class/comp-lab-class-2023/Week2/Data/1hz3_T310.stepid25000000.every100ps.nowater.xtc', top='/home/rr4398/comp-lab-class/comp-lab-class-2023/Week2/Data/1hz3_T310.start.nowater.gro')\n",
    "# Calculate the end-to-end distance\n",
    "end_to_end_distance = md.compute_distances(traj, [[0, traj.n_atoms - 1]])\n",
    "# Calculate the radius of gyration\n",
    "radius_of_gyration = md.compute_rg(traj)\n",
    "time = np.arange(0, traj.n_frames) * traj.timestep\n",
    "\n",
    "# Histogram for End-to-End Distance\n",
    "plt.subplot(1, 2, 1)\n",
    "plt.hist(end_to_end_distance, bins=20, density=True, alpha=0.7, color='blue', edgecolor='black')\n",
    "plt.xlabel('End-to-End Distance (Angstroms)')\n",
    "plt.ylabel('Density')\n",
    "plt.title('Normalized Histogram of End-to-End Distance')\n",
    "\n",
    "# Histogram for Radius of Gyration\n",
    "plt.subplot(1, 2, 2)\n",
    "plt.hist(radius_of_gyration, bins=20, density=True, alpha=0.7, color='green', edgecolor='black')\n",
    "plt.xlabel('Radius of Gyration (Angstroms)')\n",
    "plt.ylabel('Density')\n",
    "plt.title('Normalized Histogram of Radius of Gyration')\n",
    "\n",
    "# Adjust spacing between subplots\n",
    "plt.tight_layout()\n",
    "\n",
    "# Save the plot as a PDF\n",
    "plt.savefig('../Figures/histograms.pdf')\n",
    "\n",
    "# Show the plot (optional)\n",
    "plt.show()\n"
   ]
  }
 ],
 "metadata": {
  "kernelspec": {
   "display_name": "Python 3",
   "language": "python",
   "name": "python3"
  },
  "language_info": {
   "codemirror_mode": {
    "name": "ipython",
    "version": 3
   },
   "file_extension": ".py",
   "mimetype": "text/x-python",
   "name": "python",
   "nbconvert_exporter": "python",
   "pygments_lexer": "ipython3",
   "version": "3.8.6"
  }
 },
 "nbformat": 4,
 "nbformat_minor": 4
}

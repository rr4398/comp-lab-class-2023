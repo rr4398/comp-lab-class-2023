{
 "cells": [
  {
   "cell_type": "code",
   "execution_count": null,
   "metadata": {},
   "outputs": [],
   "source": [
    "import numpy as np\n",
    "import matplotlib.pyplot as plt\n",
    "\n",
    "# Define the file path\n",
    "file_path = \"data_vol.txt\"\n",
    "\n",
    "# Read data from the file\n",
    "data = np.loadtxt(file_path)\n",
    "\n",
    "# Split the data into x and y arrays\n",
    "x = data[:, 0]\n",
    "y = data[:, 1]\n",
    "\n",
    "# Create a plot\n",
    "plt.figure(figsize=(8, 6))\n",
    "plt.plot(x, y, marker='o', linestyle='-', color='b', label='Vol curve')\n",
    "\n",
    "# Label the axes and add a title\n",
    "plt.xlabel(\"Time (ns)\")\n",
    "plt.ylabel(\"Volume\")\n",
    "plt.title(\"Volume vs Time\")\n",
    "\n",
    "# Add a legend\n",
    "plt.legend()\n",
    "\n",
    "# Show the plot\n",
    "plt.grid(True)\n",
    "plt.savefig(\"vol_time.pdf\")\n",
    "\n",
    "plt.show()"
   ]
  }
 ],
 "metadata": {
  "kernelspec": {
   "display_name": "Python 3",
   "language": "python",
   "name": "python3"
  },
  "language_info": {
   "codemirror_mode": {
    "name": "ipython",
    "version": 3
   },
   "file_extension": ".py",
   "mimetype": "text/x-python",
   "name": "python",
   "nbconvert_exporter": "python",
   "pygments_lexer": "ipython3",
   "version": "3.8.6"
  }
 },
 "nbformat": 4,
 "nbformat_minor": 4
}

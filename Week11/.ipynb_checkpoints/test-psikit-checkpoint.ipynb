{
 "cells": [
  {
   "cell_type": "code",
   "execution_count": 1,
   "metadata": {},
   "outputs": [
    {
     "name": "stdout",
     "output_type": "stream",
     "text": [
      "\n",
      "  Memory set to   3.725 GiB by Python driver.\n",
      "  Threads set to 4 by Python driver.\n",
      "SCF Energy:  -230.71227965237577\n",
      "HOMO:  -0.3284852037600745\n",
      "LUMO:  0.14565220773652623\n",
      "SCF Total Dipole Moment: 0.0\n"
     ]
    }
   ],
   "source": [
    "from psikit import Psikit\n",
    "pk = Psikit()\n",
    "pk.read_from_smiles(\"c1ccccc1\")\n",
    "print(\"SCF Energy: \", pk.energy())\n",
    "print(\"HOMO: \", pk.HOMO)\n",
    "print(\"LUMO: \", pk.LUMO)\n",
    "x, y, z, total = pk.dipolemoment\n",
    "print(\"SCF Total Dipole Moment: {}\".format(total))\n",
    "# SCF Energy:  -230.712279648862\n",
    "# HOMO:  -0.32848562009092513\n",
    "# LUMO:  0.1456515222506689\n",
    "# SCF Total Dipole Moment: 3.292464934070545e-05"
   ]
  },
  {
   "cell_type": "code",
   "execution_count": 2,
   "metadata": {},
   "outputs": [
    {
     "name": "stdout",
     "output_type": "stream",
     "text": [
      "Optimizer: Optimization complete!\n",
      "Optimized SCF Energy:  -230.7135235419623\n"
     ]
    }
   ],
   "source": [
    "pk = Psikit()\n",
    "pk.read_from_smiles(\"c1ccccc1\")\n",
    "print(\"Optimized SCF Energy: \", pk.optimize())\n",
    "# Optimizer: Optimization complete!\n",
    "# Optimized SCF Energy:  -230.71352354223438"
   ]
  },
  {
   "cell_type": "code",
   "execution_count": 3,
   "metadata": {},
   "outputs": [
    {
     "name": "stdout",
     "output_type": "stream",
     "text": [
      "Optimizer: Optimization complete!\n",
      "C ESP:-0.28288261796740771\tRESP:-0.26657464692934885\n",
      "C ESP:0.80609513709445246\tRESP:0.80609513709445224\n",
      "O ESP:-0.60321681669186333\tRESP:-0.60321681669186333\n",
      "O ESP:-0.66462635829232364\tRESP:-0.66462635829232364\n",
      "H ESP:0.09666369276546552\tRESP:0.091227702419446\n",
      "H ESP:0.09666369276546552\tRESP:0.091227702419446\n",
      "H ESP:0.09666369276546552\tRESP:0.091227702419446\n",
      "H ESP:0.45463957756074569\tRESP:0.45463957756074569\n",
      "Optimizer: Optimization complete!\n"
     ]
    },
    {
     "data": {
      "text/plain": [
       "array([-0.29413439,  0.33178749, -0.3496179 , -0.29234544,  0.12067824,\n",
       "        0.12156137,  0.12482942,  0.23724122])"
      ]
     },
     "execution_count": 3,
     "metadata": {},
     "output_type": "execute_result"
    }
   ],
   "source": [
    "# REF http://ambermd.org/tutorials/advanced/tutorial1/files/resp_paper_jacs.pdf\n",
    "pk = Psikit()\n",
    "pk.read_from_smiles(\"CC(=O)O\")\n",
    "pk.optimize()\n",
    "# Optimizer: Optimization complete!\n",
    "# -227.82180859253418\n",
    "pk.calc_resp_charges()\n",
    "# array([-0.32506898,  0.83672649, -0.61924915, -0.66135715,  0.10450057,\n",
    "#    0.10478188,  0.10780051,  0.45186584])\n",
    "\n",
    "for atom in pk.mol.GetAtoms(): \n",
    "    print(atom.GetSymbol(), \"ESP:{}\\tRESP:{}\".format(atom.GetProp(\"EP\"), atom.GetProp(\"RESP\"))) \n",
    "\n",
    "# C ESP:-0.49662019588648315\tRESP:-0.3250689814483399\n",
    "# C ESP:0.91473263536048643\t\tRESP:0.83672648554100837\n",
    "# O ESP:-0.63823808477114718\tRESP:-0.61924915363703359\n",
    "# O ESP:-0.6763331997116846\t\tRESP:-0.66135714989354499\n",
    "# H ESP:0.14625849864628995\t\tRESP:0.10450056830656008\n",
    "# H ESP:0.14578513969681847\t\tRESP:0.10478187811883517\n",
    "# H ESP:0.1530843954112609\t\tRESP:0.1078005104750676\n",
    "# H ESP:0.45133081125445906\t\tRESP:0.45186584253744722\n",
    "\n",
    "### Compute Mulliken charges and Lowdin charges\n",
    "\n",
    "pk = Psikit()\n",
    "pk.read_from_smiles(\"CC(=O)O\")\n",
    "pk.optimize() # or pk.energy()\n",
    "\n",
    "pk.calc_mulliken_charges()\n",
    "# array([-0.42203029,  0.72794785, -0.55419051, -0.59333358,  0.16369722,\n",
    "#    0.1636994 ,  0.15462075,  0.35958916])\n",
    "\n",
    "pk.calc_lowdin_charges()\n",
    "#array([-0.30006577,  0.33900448, -0.35983788, -0.28463832,  0.12439944,\n",
    "#    0.12810672,  0.11935266,  0.23367866])"
   ]
  },
  {
   "cell_type": "code",
   "execution_count": 5,
   "metadata": {},
   "outputs": [
    {
     "name": "stdout",
     "output_type": "stream",
     "text": [
      "Optimizer: Optimization complete!\n"
     ]
    },
    {
     "ename": "BadStatusLine",
     "evalue": "ÿ\u0000\u0000\u0000\u0000\u0000\u0000\u0000\u0001",
     "output_type": "error",
     "traceback": [
      "\u001b[0;31m---------------------------------------------------------------------------\u001b[0m",
      "\u001b[0;31mBadStatusLine\u001b[0m                             Traceback (most recent call last)",
      "\u001b[1;32m/home/yg3191/chem-class-2023/yg3191/comp-lab-class-2023/Week11/test-psikit.ipynb 单元格 4\u001b[0m line \u001b[0;36m5\n\u001b[1;32m      <a href='vscode-notebook-cell://ssh-remote%2Bgreene.hpc.nyu.edu/home/yg3191/chem-class-2023/yg3191/comp-lab-class-2023/Week11/test-psikit.ipynb#W3sdnNjb2RlLXJlbW90ZQ%3D%3D?line=2'>3</a>\u001b[0m pk\u001b[39m.\u001b[39mread_from_smiles(\u001b[39m\"\u001b[39m\u001b[39mc1ccccc1\u001b[39m\u001b[39m\"\u001b[39m)\n\u001b[1;32m      <a href='vscode-notebook-cell://ssh-remote%2Bgreene.hpc.nyu.edu/home/yg3191/chem-class-2023/yg3191/comp-lab-class-2023/Week11/test-psikit.ipynb#W3sdnNjb2RlLXJlbW90ZQ%3D%3D?line=3'>4</a>\u001b[0m pk\u001b[39m.\u001b[39moptimize(basis_sets\u001b[39m=\u001b[39m\u001b[39m\"\u001b[39m\u001b[39mscf/sto-3g\u001b[39m\u001b[39m\"\u001b[39m)\n\u001b[0;32m----> <a href='vscode-notebook-cell://ssh-remote%2Bgreene.hpc.nyu.edu/home/yg3191/chem-class-2023/yg3191/comp-lab-class-2023/Week11/test-psikit.ipynb#W3sdnNjb2RlLXJlbW90ZQ%3D%3D?line=4'>5</a>\u001b[0m pk\u001b[39m.\u001b[39;49mview_on_pymol()\n",
      "File \u001b[0;32m/ext3/miniconda3/lib/python3.9/site-packages/psikit/psikit.py:129\u001b[0m, in \u001b[0;36mPsikit.view_on_pymol\u001b[0;34m(self, target, maprange, gridspace)\u001b[0m\n\u001b[1;32m    127\u001b[0m \u001b[39mdef\u001b[39;00m \u001b[39mview_on_pymol\u001b[39m(\u001b[39mself\u001b[39m, target\u001b[39m=\u001b[39m\u001b[39m'\u001b[39m\u001b[39mFRONTIER\u001b[39m\u001b[39m'\u001b[39m, maprange\u001b[39m=\u001b[39m\u001b[39m0.05\u001b[39m, gridspace\u001b[39m=\u001b[39m\u001b[39m0.3\u001b[39m):\n\u001b[1;32m    128\u001b[0m     \u001b[39mself\u001b[39m\u001b[39m.\u001b[39mcreate_cube_files(gridspace\u001b[39m=\u001b[39mgridspace)\n\u001b[0;32m--> 129\u001b[0m     run_pymol_server(\u001b[39mself\u001b[39;49m\u001b[39m.\u001b[39;49mtempdir, target\u001b[39m=\u001b[39;49mtarget, maprange\u001b[39m=\u001b[39;49mmaprange)\n",
      "File \u001b[0;32m/ext3/miniconda3/lib/python3.9/site-packages/psikit/pymol_helper.py:16\u001b[0m, in \u001b[0;36mrun_pymol_server\u001b[0;34m(tmpdir, target, maprange)\u001b[0m\n\u001b[1;32m     14\u001b[0m \u001b[39mimport\u001b[39;00m \u001b[39mxmlrpc\u001b[39;00m\u001b[39m.\u001b[39;00m\u001b[39mclient\u001b[39;00m \u001b[39mas\u001b[39;00m \u001b[39mxmlrpc\u001b[39;00m\n\u001b[1;32m     15\u001b[0m srv \u001b[39m=\u001b[39m xmlrpc\u001b[39m.\u001b[39mServerProxy(\u001b[39m'\u001b[39m\u001b[39mhttp://localhost:9123\u001b[39m\u001b[39m'\u001b[39m)\n\u001b[0;32m---> 16\u001b[0m srv\u001b[39m.\u001b[39;49mdo(\u001b[39m'\u001b[39;49m\u001b[39mdelete *\u001b[39;49m\u001b[39m'\u001b[39;49m)\n\u001b[1;32m     17\u001b[0m srv\u001b[39m.\u001b[39mdo(\u001b[39m'\u001b[39m\u001b[39mload \u001b[39m\u001b[39m'\u001b[39m\u001b[39m+\u001b[39mos\u001b[39m.\u001b[39mpath\u001b[39m.\u001b[39mjoin(tmpdir, \u001b[39m'\u001b[39m\u001b[39mtarget.mol\u001b[39m\u001b[39m'\u001b[39m))\n\u001b[1;32m     18\u001b[0m srv\u001b[39m.\u001b[39mdo(\u001b[39m'\u001b[39m\u001b[39mas sticks, target\u001b[39m\u001b[39m'\u001b[39m)\n",
      "File \u001b[0;32m/ext3/miniconda3/lib/python3.9/xmlrpc/client.py:1122\u001b[0m, in \u001b[0;36m_Method.__call__\u001b[0;34m(self, *args)\u001b[0m\n\u001b[1;32m   1121\u001b[0m \u001b[39mdef\u001b[39;00m \u001b[39m__call__\u001b[39m(\u001b[39mself\u001b[39m, \u001b[39m*\u001b[39margs):\n\u001b[0;32m-> 1122\u001b[0m     \u001b[39mreturn\u001b[39;00m \u001b[39mself\u001b[39;49m\u001b[39m.\u001b[39;49m__send(\u001b[39mself\u001b[39;49m\u001b[39m.\u001b[39;49m__name, args)\n",
      "File \u001b[0;32m/ext3/miniconda3/lib/python3.9/xmlrpc/client.py:1464\u001b[0m, in \u001b[0;36mServerProxy.__request\u001b[0;34m(self, methodname, params)\u001b[0m\n\u001b[1;32m   1458\u001b[0m \u001b[39mdef\u001b[39;00m \u001b[39m__request\u001b[39m(\u001b[39mself\u001b[39m, methodname, params):\n\u001b[1;32m   1459\u001b[0m     \u001b[39m# call a method on the remote server\u001b[39;00m\n\u001b[1;32m   1461\u001b[0m     request \u001b[39m=\u001b[39m dumps(params, methodname, encoding\u001b[39m=\u001b[39m\u001b[39mself\u001b[39m\u001b[39m.\u001b[39m__encoding,\n\u001b[1;32m   1462\u001b[0m                     allow_none\u001b[39m=\u001b[39m\u001b[39mself\u001b[39m\u001b[39m.\u001b[39m__allow_none)\u001b[39m.\u001b[39mencode(\u001b[39mself\u001b[39m\u001b[39m.\u001b[39m__encoding, \u001b[39m'\u001b[39m\u001b[39mxmlcharrefreplace\u001b[39m\u001b[39m'\u001b[39m)\n\u001b[0;32m-> 1464\u001b[0m     response \u001b[39m=\u001b[39m \u001b[39mself\u001b[39;49m\u001b[39m.\u001b[39;49m__transport\u001b[39m.\u001b[39;49mrequest(\n\u001b[1;32m   1465\u001b[0m         \u001b[39mself\u001b[39;49m\u001b[39m.\u001b[39;49m__host,\n\u001b[1;32m   1466\u001b[0m         \u001b[39mself\u001b[39;49m\u001b[39m.\u001b[39;49m__handler,\n\u001b[1;32m   1467\u001b[0m         request,\n\u001b[1;32m   1468\u001b[0m         verbose\u001b[39m=\u001b[39;49m\u001b[39mself\u001b[39;49m\u001b[39m.\u001b[39;49m__verbose\n\u001b[1;32m   1469\u001b[0m         )\n\u001b[1;32m   1471\u001b[0m     \u001b[39mif\u001b[39;00m \u001b[39mlen\u001b[39m(response) \u001b[39m==\u001b[39m \u001b[39m1\u001b[39m:\n\u001b[1;32m   1472\u001b[0m         response \u001b[39m=\u001b[39m response[\u001b[39m0\u001b[39m]\n",
      "File \u001b[0;32m/ext3/miniconda3/lib/python3.9/xmlrpc/client.py:1166\u001b[0m, in \u001b[0;36mTransport.request\u001b[0;34m(self, host, handler, request_body, verbose)\u001b[0m\n\u001b[1;32m   1164\u001b[0m \u001b[39mfor\u001b[39;00m i \u001b[39min\u001b[39;00m (\u001b[39m0\u001b[39m, \u001b[39m1\u001b[39m):\n\u001b[1;32m   1165\u001b[0m     \u001b[39mtry\u001b[39;00m:\n\u001b[0;32m-> 1166\u001b[0m         \u001b[39mreturn\u001b[39;00m \u001b[39mself\u001b[39;49m\u001b[39m.\u001b[39;49msingle_request(host, handler, request_body, verbose)\n\u001b[1;32m   1167\u001b[0m     \u001b[39mexcept\u001b[39;00m http\u001b[39m.\u001b[39mclient\u001b[39m.\u001b[39mRemoteDisconnected:\n\u001b[1;32m   1168\u001b[0m         \u001b[39mif\u001b[39;00m i:\n",
      "File \u001b[0;32m/ext3/miniconda3/lib/python3.9/xmlrpc/client.py:1179\u001b[0m, in \u001b[0;36mTransport.single_request\u001b[0;34m(self, host, handler, request_body, verbose)\u001b[0m\n\u001b[1;32m   1177\u001b[0m \u001b[39mtry\u001b[39;00m:\n\u001b[1;32m   1178\u001b[0m     http_conn \u001b[39m=\u001b[39m \u001b[39mself\u001b[39m\u001b[39m.\u001b[39msend_request(host, handler, request_body, verbose)\n\u001b[0;32m-> 1179\u001b[0m     resp \u001b[39m=\u001b[39m http_conn\u001b[39m.\u001b[39;49mgetresponse()\n\u001b[1;32m   1180\u001b[0m     \u001b[39mif\u001b[39;00m resp\u001b[39m.\u001b[39mstatus \u001b[39m==\u001b[39m \u001b[39m200\u001b[39m:\n\u001b[1;32m   1181\u001b[0m         \u001b[39mself\u001b[39m\u001b[39m.\u001b[39mverbose \u001b[39m=\u001b[39m verbose\n",
      "File \u001b[0;32m/ext3/miniconda3/lib/python3.9/http/client.py:1377\u001b[0m, in \u001b[0;36mHTTPConnection.getresponse\u001b[0;34m(self)\u001b[0m\n\u001b[1;32m   1375\u001b[0m \u001b[39mtry\u001b[39;00m:\n\u001b[1;32m   1376\u001b[0m     \u001b[39mtry\u001b[39;00m:\n\u001b[0;32m-> 1377\u001b[0m         response\u001b[39m.\u001b[39;49mbegin()\n\u001b[1;32m   1378\u001b[0m     \u001b[39mexcept\u001b[39;00m \u001b[39mConnectionError\u001b[39;00m:\n\u001b[1;32m   1379\u001b[0m         \u001b[39mself\u001b[39m\u001b[39m.\u001b[39mclose()\n",
      "File \u001b[0;32m/ext3/miniconda3/lib/python3.9/http/client.py:320\u001b[0m, in \u001b[0;36mHTTPResponse.begin\u001b[0;34m(self)\u001b[0m\n\u001b[1;32m    318\u001b[0m \u001b[39m# read until we get a non-100 response\u001b[39;00m\n\u001b[1;32m    319\u001b[0m \u001b[39mwhile\u001b[39;00m \u001b[39mTrue\u001b[39;00m:\n\u001b[0;32m--> 320\u001b[0m     version, status, reason \u001b[39m=\u001b[39m \u001b[39mself\u001b[39;49m\u001b[39m.\u001b[39;49m_read_status()\n\u001b[1;32m    321\u001b[0m     \u001b[39mif\u001b[39;00m status \u001b[39m!=\u001b[39m CONTINUE:\n\u001b[1;32m    322\u001b[0m         \u001b[39mbreak\u001b[39;00m\n",
      "File \u001b[0;32m/ext3/miniconda3/lib/python3.9/http/client.py:302\u001b[0m, in \u001b[0;36mHTTPResponse._read_status\u001b[0;34m(self)\u001b[0m\n\u001b[1;32m    300\u001b[0m \u001b[39mif\u001b[39;00m \u001b[39mnot\u001b[39;00m version\u001b[39m.\u001b[39mstartswith(\u001b[39m\"\u001b[39m\u001b[39mHTTP/\u001b[39m\u001b[39m\"\u001b[39m):\n\u001b[1;32m    301\u001b[0m     \u001b[39mself\u001b[39m\u001b[39m.\u001b[39m_close_conn()\n\u001b[0;32m--> 302\u001b[0m     \u001b[39mraise\u001b[39;00m BadStatusLine(line)\n\u001b[1;32m    304\u001b[0m \u001b[39m# The status code is a three-digit number\u001b[39;00m\n\u001b[1;32m    305\u001b[0m \u001b[39mtry\u001b[39;00m:\n",
      "\u001b[0;31mBadStatusLine\u001b[0m: ÿ\u0000\u0000\u0000\u0000\u0000\u0000\u0000\u0001"
     ]
    }
   ],
   "source": [
    "from psikit import Psikit\n",
    "pk = Psikit()\n",
    "pk.read_from_smiles(\"c1ccccc1\")\n",
    "pk.optimize(basis_sets=\"scf/sto-3g\")\n",
    "pk.view_on_pymol() # launch pymol as a RPC server in advance, just type \"pymol -R\""
   ]
  },
  {
   "cell_type": "code",
   "execution_count": null,
   "metadata": {},
   "outputs": [],
   "source": []
  }
 ],
 "metadata": {
  "kernelspec": {
   "display_name": "lab_env_2023",
   "language": "python",
   "name": "lab_env_2023"
  },
  "language_info": {
   "codemirror_mode": {
    "name": "ipython",
    "version": 3
   },
   "file_extension": ".py",
   "mimetype": "text/x-python",
   "name": "python",
   "nbconvert_exporter": "python",
   "pygments_lexer": "ipython3",
   "version": "3.9.12"
  },
  "orig_nbformat": 4
 },
 "nbformat": 4,
 "nbformat_minor": 2
}

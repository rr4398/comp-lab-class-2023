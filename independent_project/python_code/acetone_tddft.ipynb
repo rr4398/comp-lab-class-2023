{
 "cells": [
  {
   "cell_type": "code",
   "execution_count": 7,
   "metadata": {},
   "outputs": [],
   "source": [
    "import psi4"
   ]
  },
  {
   "cell_type": "code",
   "execution_count": 8,
   "metadata": {},
   "outputs": [],
   "source": [
    "from psi4.driver.procrouting.response.scf_response import tdscf_excitations"
   ]
  },
  {
   "cell_type": "code",
   "execution_count": 9,
   "metadata": {},
   "outputs": [],
   "source": [
    "psi4.core.set_output_file(\"moxy.out\")\n",
    "psi4.core.set_num_threads(4)"
   ]
  },
  {
   "cell_type": "code",
   "execution_count": 10,
   "metadata": {},
   "outputs": [],
   "source": [
    "moxy = psi4.geometry(\"\"\"0 1\n",
    "C  0.0000  0.0000  0.1846 \n",
    "O  0.0000  0.0000  1.4004 \n",
    "C  0.0000  1.2926 -0.6145 \n",
    "C  0.0000 -1.2926 -0.6145 \n",
    "H -0.0008  2.1464  0.0641 \n",
    "H  0.0008 -2.1464  0.0641 \n",
    "H  0.8805  1.3404 -1.2658 \n",
    "H -0.8796  1.3397 -1.2670 \n",
    "H -0.8805 -1.3404 -1.2658 \n",
    "H  0.8796 -1.3397 -1.2670\n",
    "\"\"\", name=\"acetone\")"
   ]
  },
  {
   "cell_type": "code",
   "execution_count": 11,
   "metadata": {},
   "outputs": [],
   "source": [
    "psi4.set_options({\n",
    "    \"save_jk\" : True,\n",
    "})"
   ]
  },
  {
   "cell_type": "code",
   "execution_count": 12,
   "metadata": {},
   "outputs": [],
   "source": [
    "e, wfn = psi4.energy(\"b3lyp/cc-pVDZ\", return_wfn=True, molecule=moxy)\n",
    "res = tdscf_excitations(wfn, states=10)"
   ]
  },
  {
   "cell_type": "code",
   "execution_count": 13,
   "metadata": {},
   "outputs": [
    {
     "name": "stdout",
     "output_type": "stream",
     "text": [
      "EXCITATION ENERGY = 0.1615221631266107\n",
      "ELECTRIC DIPOLE TRANSITION MOMENT (LEN) = [0.00000000e+00 0.00000000e+00 1.27573542e-05]\n",
      "OSCILLATOR STRENGTH (LEN) = 1.75251640852108e-11\n",
      "ELECTRIC DIPOLE TRANSITION MOMENT (VEL) = [0.00000000e+00 0.00000000e+00 1.00763655e-05]\n",
      "OSCILLATOR STRENGTH (VEL) = 4.19067945663912e-10\n",
      "MAGNETIC DIPOLE TRANSITION MOMENT = [ 0.         0.        -0.5994343]\n",
      "ROTATORY STRENGTH (LEN) = -7.647195686480623e-06\n",
      "ROTATORY STRENGTH (VEL) = 3.7394986324320295e-05\n",
      "SYMMETRY = A\n",
      "SPIN = singlet\n",
      "RIGHT EIGENVECTOR ALPHA = <psi4.core.Matrix object at 0x145aa4542e00>\n",
      "LEFT EIGENVECTOR ALPHA = <psi4.core.Matrix object at 0x145aa4542ea0>\n",
      "RIGHT EIGENVECTOR BETA = <psi4.core.Matrix object at 0x145aa4542e00>\n",
      "LEFT EIGENVECTOR BETA = <psi4.core.Matrix object at 0x145aa4542ea0>\n"
     ]
    }
   ],
   "source": [
    "for k, v in res[0].items():\n",
    "    print(f\"{k} = {v}\")"
   ]
  },
  {
   "cell_type": "code",
   "execution_count": null,
   "metadata": {},
   "outputs": [],
   "source": []
  }
 ],
 "metadata": {
  "kernelspec": {
   "display_name": "lab_env_2023",
   "language": "python",
   "name": "lab_env_2023"
  },
  "language_info": {
   "codemirror_mode": {
    "name": "ipython",
    "version": 3
   },
   "file_extension": ".py",
   "mimetype": "text/x-python",
   "name": "python",
   "nbconvert_exporter": "python",
   "pygments_lexer": "ipython3",
   "version": "3.9.12"
  }
 },
 "nbformat": 4,
 "nbformat_minor": 4
}

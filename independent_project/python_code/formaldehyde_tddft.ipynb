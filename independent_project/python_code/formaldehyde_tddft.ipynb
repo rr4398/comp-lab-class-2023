{
 "cells": [
  {
   "cell_type": "code",
   "execution_count": 9,
   "metadata": {},
   "outputs": [],
   "source": [
    "import psi4"
   ]
  },
  {
   "cell_type": "code",
   "execution_count": 10,
   "metadata": {},
   "outputs": [],
   "source": [
    "from psi4.driver.procrouting.response.scf_response import tdscf_excitations"
   ]
  },
  {
   "cell_type": "code",
   "execution_count": 11,
   "metadata": {},
   "outputs": [],
   "source": [
    "psi4.core.set_output_file(\"moxy.out\")\n",
    "psi4.core.set_num_threads(4)"
   ]
  },
  {
   "cell_type": "code",
   "execution_count": 12,
   "metadata": {},
   "outputs": [],
   "source": [
    "moxy = psi4.geometry(\"\"\"0 1\n",
    "O  0.0000  0.0000  0.6777 \n",
    "C  0.0000 -0.5289 -0.5289\n",
    "H  0.0000  0.9376 -1.1240 \n",
    "H  0.0000 -0.9376 -1.1240\n",
    "\"\"\", name=\"formaldehyde\")"
   ]
  },
  {
   "cell_type": "code",
   "execution_count": 13,
   "metadata": {},
   "outputs": [],
   "source": [
    "psi4.set_options({\n",
    "    \"save_jk\" : True,\n",
    "})"
   ]
  },
  {
   "cell_type": "code",
   "execution_count": 14,
   "metadata": {},
   "outputs": [],
   "source": [
    "e, wfn = psi4.energy(\"b3lyp/cc-pVDZ\", return_wfn=True, molecule=moxy)\n",
    "res = tdscf_excitations(wfn, states=10)"
   ]
  },
  {
   "cell_type": "code",
   "execution_count": 15,
   "metadata": {},
   "outputs": [
    {
     "name": "stdout",
     "output_type": "stream",
     "text": [
      "EXCITATION ENERGY = 0.06586806606269799\n",
      "ELECTRIC DIPOLE TRANSITION MOMENT (LEN) = [0.        0.        0.0908148]\n",
      "OSCILLATOR STRENGTH (LEN) = 0.00036215704214445535\n",
      "ELECTRIC DIPOLE TRANSITION MOMENT (VEL) = [ 0.          0.         -0.00773243]\n",
      "OSCILLATOR STRENGTH (VEL) = 0.0006051537558173126\n",
      "MAGNETIC DIPOLE TRANSITION MOMENT = [0.26972763 0.54887576 0.        ]\n",
      "ROTATORY STRENGTH (LEN) = 0.0\n",
      "ROTATORY STRENGTH (VEL) = -0.0\n",
      "SYMMETRY = App\n",
      "SPIN = singlet\n",
      "RIGHT EIGENVECTOR ALPHA = <psi4.core.Matrix object at 0x1495f7ba7c70>\n",
      "LEFT EIGENVECTOR ALPHA = <psi4.core.Matrix object at 0x14962240d2c0>\n",
      "RIGHT EIGENVECTOR BETA = <psi4.core.Matrix object at 0x1495f7ba7c70>\n",
      "LEFT EIGENVECTOR BETA = <psi4.core.Matrix object at 0x14962240d2c0>\n"
     ]
    }
   ],
   "source": [
    "for k, v in res[0].items():\n",
    "    print(f\"{k} = {v}\")"
   ]
  },
  {
   "cell_type": "code",
   "execution_count": null,
   "metadata": {},
   "outputs": [],
   "source": []
  }
 ],
 "metadata": {
  "kernelspec": {
   "display_name": "lab_env_2023",
   "language": "python",
   "name": "lab_env_2023"
  },
  "language_info": {
   "codemirror_mode": {
    "name": "ipython",
    "version": 3
   },
   "file_extension": ".py",
   "mimetype": "text/x-python",
   "name": "python",
   "nbconvert_exporter": "python",
   "pygments_lexer": "ipython3",
   "version": "3.9.12"
  }
 },
 "nbformat": 4,
 "nbformat_minor": 4
}

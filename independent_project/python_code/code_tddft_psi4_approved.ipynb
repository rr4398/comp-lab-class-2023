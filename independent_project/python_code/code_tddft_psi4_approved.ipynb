{
 "cells": [
  {
   "cell_type": "code",
   "execution_count": 5,
   "metadata": {},
   "outputs": [],
   "source": [
    "import psi4"
   ]
  },
  {
   "cell_type": "code",
   "execution_count": 6,
   "metadata": {},
   "outputs": [],
   "source": [
    "from psi4.driver.procrouting.response.scf_response import tdscf_excitations"
   ]
  },
  {
   "cell_type": "code",
   "execution_count": 7,
   "metadata": {},
   "outputs": [],
   "source": [
    "psi4.core.set_output_file(\"moxy.out\")\n",
    "psi4.core.set_num_threads(4)"
   ]
  },
  {
   "cell_type": "code",
   "execution_count": 8,
   "metadata": {},
   "outputs": [],
   "source": [
    "moxy = psi4.geometry(\"\"\"0 1\n",
    "C  0.0000  0.0000  1.2024 \n",
    "N  0.0000  0.9969  0.2812 \n",
    "N  0.0000 -0.9969  0.2812\n",
    "C  0.0000  0.7277 -0.9469 \n",
    "C  0.0000 -0.7277 -0.9469 \n",
    "H -0.8928  0.0000  1.8398 \n",
    "H  0.8928  0.0000  1.8398 \n",
    "H  0.0000  1.4741 -1.7339 \n",
    "H  0.0000 -1.4741 -1.7339\n",
    "\"\"\", name=\"imidazole\")"
   ]
  },
  {
   "cell_type": "code",
   "execution_count": 9,
   "metadata": {},
   "outputs": [],
   "source": [
    "psi4.set_options({\n",
    "    \"save_jk\" : True,\n",
    "})"
   ]
  },
  {
   "cell_type": "code",
   "execution_count": 10,
   "metadata": {},
   "outputs": [],
   "source": [
    "####e, wfn = psi4.energy(\"HF/cc-pVDZ\", return_wfn=True, molecule=moxy)\n",
    "e, wfn = psi4.energy(\"b3lyp/cc-pVDZ\", return_wfn=True, molecule=moxy)\n",
    "res = tdscf_excitations(wfn, states=10)"
   ]
  },
  {
   "cell_type": "code",
   "execution_count": 11,
   "metadata": {},
   "outputs": [
    {
     "name": "stdout",
     "output_type": "stream",
     "text": [
      "EXCITATION ENERGY = 0.09142952562047535\n",
      "ELECTRIC DIPOLE TRANSITION MOMENT (LEN) = [0. 0. 0.]\n",
      "OSCILLATOR STRENGTH (LEN) = 0.0\n",
      "ELECTRIC DIPOLE TRANSITION MOMENT (VEL) = [0. 0. 0.]\n",
      "OSCILLATOR STRENGTH (VEL) = 0.0\n",
      "MAGNETIC DIPOLE TRANSITION MOMENT = [ 0.          0.         -0.49016762]\n",
      "ROTATORY STRENGTH (LEN) = 0.0\n",
      "ROTATORY STRENGTH (VEL) = -0.0\n",
      "SYMMETRY = A2\n",
      "SPIN = singlet\n",
      "RIGHT EIGENVECTOR ALPHA = <psi4.core.Matrix object at 0x145ae736bd10>\n",
      "LEFT EIGENVECTOR ALPHA = <psi4.core.Matrix object at 0x145ae736d310>\n",
      "RIGHT EIGENVECTOR BETA = <psi4.core.Matrix object at 0x145ae736bd10>\n",
      "LEFT EIGENVECTOR BETA = <psi4.core.Matrix object at 0x145ae736d310>\n"
     ]
    }
   ],
   "source": [
    "for k, v in res[0].items():\n",
    "    print(f\"{k} = {v}\")"
   ]
  },
  {
   "cell_type": "code",
   "execution_count": null,
   "metadata": {},
   "outputs": [],
   "source": []
  }
 ],
 "metadata": {
  "kernelspec": {
   "display_name": "lab_env_2023",
   "language": "python",
   "name": "lab_env_2023"
  },
  "language_info": {
   "codemirror_mode": {
    "name": "ipython",
    "version": 3
   },
   "file_extension": ".py",
   "mimetype": "text/x-python",
   "name": "python",
   "nbconvert_exporter": "python",
   "pygments_lexer": "ipython3",
   "version": "3.9.12"
  }
 },
 "nbformat": 4,
 "nbformat_minor": 4
}

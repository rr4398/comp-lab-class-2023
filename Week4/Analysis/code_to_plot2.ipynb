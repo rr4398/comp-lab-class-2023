{
 "cells": [
  {
   "cell_type": "code",
   "execution_count": 7,
   "metadata": {},
   "outputs": [
    {
     "name": "stdout",
     "output_type": "stream",
     "text": [
      "Defaulting to user installation because normal site-packages is not writeable\n",
      "Requirement already satisfied: mdtraj in /home/rr4398/.local/lib/python3.8/site-packages (1.9.9)\n",
      "Requirement already satisfied: matplotlib in /share/apps/python/3.8.6/intel/lib/python3.8/site-packages (3.3.2)\n",
      "Requirement already satisfied: astunparse in /home/rr4398/.local/lib/python3.8/site-packages (from mdtraj) (1.6.3)\n",
      "Requirement already satisfied: scipy in /share/apps/python/3.8.6/intel/lib/python3.8/site-packages/scipy-1.5.2-py3.8-linux-x86_64.egg (from mdtraj) (1.5.2)\n",
      "Requirement already satisfied: numpy>=1.6 in /home/rr4398/.local/lib/python3.8/site-packages (from mdtraj) (1.24.4)\n",
      "Requirement already satisfied: pyparsing in /share/apps/python/3.8.6/intel/lib/python3.8/site-packages (from mdtraj) (2.4.7)\n",
      "Requirement already satisfied: cycler>=0.10 in /share/apps/python/3.8.6/intel/lib/python3.8/site-packages (from matplotlib) (0.10.0)\n",
      "Requirement already satisfied: kiwisolver>=1.0.1 in /share/apps/python/3.8.6/intel/lib/python3.8/site-packages (from matplotlib) (1.2.0)\n",
      "Requirement already satisfied: certifi>=2020.06.20 in /share/apps/python/3.8.6/intel/lib/python3.8/site-packages (from matplotlib) (2020.6.20)\n",
      "Requirement already satisfied: python-dateutil>=2.1 in /share/apps/python/3.8.6/intel/lib/python3.8/site-packages (from matplotlib) (2.8.1)\n",
      "Requirement already satisfied: pillow>=6.2.0 in /share/apps/python/3.8.6/intel/lib/python3.8/site-packages (from matplotlib) (8.0.1)\n",
      "Requirement already satisfied: six<2.0,>=1.6.1 in /share/apps/python/3.8.6/intel/lib/python3.8/site-packages (from astunparse->mdtraj) (1.15.0)\n",
      "Requirement already satisfied: wheel<1.0,>=0.23.0 in /share/apps/python/3.8.6/intel/lib/python3.8/site-packages (from astunparse->mdtraj) (0.35.1)\n",
      "\u001b[33mWARNING: You are using pip version 20.2.3; however, version 23.3 is available.\n",
      "You should consider upgrading via the '/share/apps/python/3.8.6/intel/bin/python -m pip install --upgrade pip' command.\u001b[0m\n",
      "Note: you may need to restart the kernel to use updated packages.\n"
     ]
    }
   ],
   "source": [
    "pip install mdtraj matplotlib"
   ]
  },
  {
   "cell_type": "code",
   "execution_count": 9,
   "metadata": {},
   "outputs": [
    {
     "name": "stdout",
     "output_type": "stream",
     "text": [
      "Defaulting to user installation because normal site-packages is not writeable\n",
      "Requirement already satisfied: mdanalysis in /home/rr4398/.local/lib/python3.8/site-packages (2.4.3)\n",
      "Requirement already satisfied: gsd>=1.9.3 in /home/rr4398/.local/lib/python3.8/site-packages (from mdanalysis) (3.2.0)\n",
      "Requirement already satisfied: tqdm>=4.43.0 in /home/rr4398/.local/lib/python3.8/site-packages (from mdanalysis) (4.66.1)\n",
      "Requirement already satisfied: GridDataFormats>=0.4.0 in /home/rr4398/.local/lib/python3.8/site-packages (from mdanalysis) (1.0.1)\n",
      "Requirement already satisfied: packaging in /share/apps/python/3.8.6/intel/lib/python3.8/site-packages (from mdanalysis) (20.4)\n",
      "Requirement already satisfied: mmtf-python>=1.0.0 in /home/rr4398/.local/lib/python3.8/site-packages (from mdanalysis) (1.1.3)\n",
      "Requirement already satisfied: fasteners in /home/rr4398/.local/lib/python3.8/site-packages (from mdanalysis) (0.19)\n",
      "Requirement already satisfied: numpy>=1.20.0 in /home/rr4398/.local/lib/python3.8/site-packages (from mdanalysis) (1.24.4)\n",
      "Requirement already satisfied: networkx>=2.0 in /home/rr4398/.local/lib/python3.8/site-packages (from mdanalysis) (3.1)\n",
      "Requirement already satisfied: joblib>=0.12 in /home/rr4398/.local/lib/python3.8/site-packages (from mdanalysis) (1.3.2)\n",
      "Requirement already satisfied: biopython>=1.80 in /home/rr4398/.local/lib/python3.8/site-packages (from mdanalysis) (1.81)\n",
      "Requirement already satisfied: threadpoolctl in /home/rr4398/.local/lib/python3.8/site-packages (from mdanalysis) (3.2.0)\n",
      "Requirement already satisfied: scipy>=1.5.0 in /share/apps/python/3.8.6/intel/lib/python3.8/site-packages/scipy-1.5.2-py3.8-linux-x86_64.egg (from mdanalysis) (1.5.2)\n",
      "Requirement already satisfied: matplotlib>=1.5.1 in /share/apps/python/3.8.6/intel/lib/python3.8/site-packages (from mdanalysis) (3.3.2)\n",
      "Requirement already satisfied: mrcfile in /home/rr4398/.local/lib/python3.8/site-packages (from GridDataFormats>=0.4.0->mdanalysis) (1.4.3)\n",
      "Requirement already satisfied: six in /share/apps/python/3.8.6/intel/lib/python3.8/site-packages (from packaging->mdanalysis) (1.15.0)\n",
      "Requirement already satisfied: pyparsing>=2.0.2 in /share/apps/python/3.8.6/intel/lib/python3.8/site-packages (from packaging->mdanalysis) (2.4.7)\n",
      "Requirement already satisfied: msgpack>=1.0.0 in /home/rr4398/.local/lib/python3.8/site-packages (from mmtf-python>=1.0.0->mdanalysis) (1.0.7)\n",
      "Requirement already satisfied: pillow>=6.2.0 in /share/apps/python/3.8.6/intel/lib/python3.8/site-packages (from matplotlib>=1.5.1->mdanalysis) (8.0.1)\n",
      "Requirement already satisfied: python-dateutil>=2.1 in /share/apps/python/3.8.6/intel/lib/python3.8/site-packages (from matplotlib>=1.5.1->mdanalysis) (2.8.1)\n",
      "Requirement already satisfied: kiwisolver>=1.0.1 in /share/apps/python/3.8.6/intel/lib/python3.8/site-packages (from matplotlib>=1.5.1->mdanalysis) (1.2.0)\n",
      "Requirement already satisfied: certifi>=2020.06.20 in /share/apps/python/3.8.6/intel/lib/python3.8/site-packages (from matplotlib>=1.5.1->mdanalysis) (2020.6.20)\n",
      "Requirement already satisfied: cycler>=0.10 in /share/apps/python/3.8.6/intel/lib/python3.8/site-packages (from matplotlib>=1.5.1->mdanalysis) (0.10.0)\n",
      "\u001b[33mWARNING: You are using pip version 20.2.3; however, version 23.3 is available.\n",
      "You should consider upgrading via the '/share/apps/python/3.8.6/intel/bin/python -m pip install --upgrade pip' command.\u001b[0m\n",
      "Note: you may need to restart the kernel to use updated packages.\n"
     ]
    }
   ],
   "source": [
    "pip install mdanalysis"
   ]
  },
  {
   "cell_type": "code",
   "execution_count": 10,
   "metadata": {},
   "outputs": [
    {
     "name": "stdout",
     "output_type": "stream",
     "text": [
      "Defaulting to user installation because normal site-packages is not writeable\n",
      "Requirement already satisfied: mdanalysis in /home/rr4398/.local/lib/python3.8/site-packages (2.4.3)\n",
      "Requirement already satisfied: GridDataFormats>=0.4.0 in /home/rr4398/.local/lib/python3.8/site-packages (from mdanalysis) (1.0.1)\n",
      "Requirement already satisfied: gsd>=1.9.3 in /home/rr4398/.local/lib/python3.8/site-packages (from mdanalysis) (3.2.0)\n",
      "Requirement already satisfied: joblib>=0.12 in /home/rr4398/.local/lib/python3.8/site-packages (from mdanalysis) (1.3.2)\n",
      "Requirement already satisfied: mmtf-python>=1.0.0 in /home/rr4398/.local/lib/python3.8/site-packages (from mdanalysis) (1.1.3)\n",
      "Requirement already satisfied: networkx>=2.0 in /home/rr4398/.local/lib/python3.8/site-packages (from mdanalysis) (3.1)\n",
      "Requirement already satisfied: packaging in /share/apps/python/3.8.6/intel/lib/python3.8/site-packages (from mdanalysis) (20.4)\n",
      "Requirement already satisfied: scipy>=1.5.0 in /share/apps/python/3.8.6/intel/lib/python3.8/site-packages/scipy-1.5.2-py3.8-linux-x86_64.egg (from mdanalysis) (1.5.2)\n",
      "Requirement already satisfied: matplotlib>=1.5.1 in /share/apps/python/3.8.6/intel/lib/python3.8/site-packages (from mdanalysis) (3.3.2)\n",
      "Requirement already satisfied: tqdm>=4.43.0 in /home/rr4398/.local/lib/python3.8/site-packages (from mdanalysis) (4.66.1)\n",
      "Requirement already satisfied: threadpoolctl in /home/rr4398/.local/lib/python3.8/site-packages (from mdanalysis) (3.2.0)\n",
      "Requirement already satisfied: numpy>=1.20.0 in /home/rr4398/.local/lib/python3.8/site-packages (from mdanalysis) (1.24.4)\n",
      "Requirement already satisfied: fasteners in /home/rr4398/.local/lib/python3.8/site-packages (from mdanalysis) (0.19)\n",
      "Requirement already satisfied: biopython>=1.80 in /home/rr4398/.local/lib/python3.8/site-packages (from mdanalysis) (1.81)\n",
      "Requirement already satisfied: mrcfile in /home/rr4398/.local/lib/python3.8/site-packages (from GridDataFormats>=0.4.0->mdanalysis) (1.4.3)\n",
      "Requirement already satisfied: msgpack>=1.0.0 in /home/rr4398/.local/lib/python3.8/site-packages (from mmtf-python>=1.0.0->mdanalysis) (1.0.7)\n",
      "Requirement already satisfied: six in /share/apps/python/3.8.6/intel/lib/python3.8/site-packages (from packaging->mdanalysis) (1.15.0)\n",
      "Requirement already satisfied: pyparsing>=2.0.2 in /share/apps/python/3.8.6/intel/lib/python3.8/site-packages (from packaging->mdanalysis) (2.4.7)\n",
      "Requirement already satisfied: cycler>=0.10 in /share/apps/python/3.8.6/intel/lib/python3.8/site-packages (from matplotlib>=1.5.1->mdanalysis) (0.10.0)\n",
      "Requirement already satisfied: kiwisolver>=1.0.1 in /share/apps/python/3.8.6/intel/lib/python3.8/site-packages (from matplotlib>=1.5.1->mdanalysis) (1.2.0)\n",
      "Requirement already satisfied: certifi>=2020.06.20 in /share/apps/python/3.8.6/intel/lib/python3.8/site-packages (from matplotlib>=1.5.1->mdanalysis) (2020.6.20)\n",
      "Requirement already satisfied: python-dateutil>=2.1 in /share/apps/python/3.8.6/intel/lib/python3.8/site-packages (from matplotlib>=1.5.1->mdanalysis) (2.8.1)\n",
      "Requirement already satisfied: pillow>=6.2.0 in /share/apps/python/3.8.6/intel/lib/python3.8/site-packages (from matplotlib>=1.5.1->mdanalysis) (8.0.1)\n",
      "\u001b[33mWARNING: You are using pip version 20.2.3; however, version 23.3 is available.\n",
      "You should consider upgrading via the '/share/apps/python/3.8.6/intel/bin/python -m pip install --upgrade pip' command.\u001b[0m\n",
      "Note: you may need to restart the kernel to use updated packages.\n"
     ]
    }
   ],
   "source": [
    "pip install mdanalysis"
   ]
  },
  {
   "cell_type": "code",
   "execution_count": 11,
   "metadata": {},
   "outputs": [
    {
     "name": "stdout",
     "output_type": "stream",
     "text": [
      "Defaulting to user installation because normal site-packages is not writeable\n",
      "Collecting tidynamics\n",
      "  Downloading tidynamics-1.1.2-py3-none-any.whl (6.5 kB)\n",
      "Requirement already satisfied: numpy in /home/rr4398/.local/lib/python3.8/site-packages (from tidynamics) (1.24.4)\n",
      "Installing collected packages: tidynamics\n",
      "Successfully installed tidynamics-1.1.2\n",
      "\u001b[33mWARNING: You are using pip version 20.2.3; however, version 23.3 is available.\n",
      "You should consider upgrading via the '/share/apps/python/3.8.6/intel/bin/python -m pip install --upgrade pip' command.\u001b[0m\n",
      "Note: you may need to restart the kernel to use updated packages.\n"
     ]
    }
   ],
   "source": [
    "pip install tidynamics"
   ]
  },
  {
   "cell_type": "code",
   "execution_count": 12,
   "metadata": {},
   "outputs": [
    {
     "ename": "ValueError",
     "evalue": "numpy.ndarray size changed, may indicate binary incompatibility. Expected 88 from C header, got 80 from PyObject",
     "output_type": "error",
     "traceback": [
      "\u001b[0;31m---------------------------------------------------------------------------\u001b[0m",
      "\u001b[0;31mValueError\u001b[0m                                Traceback (most recent call last)",
      "\u001b[0;32m<ipython-input-12-d0da17862bb6>\u001b[0m in \u001b[0;36m<module>\u001b[0;34m\u001b[0m\n\u001b[1;32m      1\u001b[0m \u001b[0;32mimport\u001b[0m \u001b[0mmatplotlib\u001b[0m\u001b[0;34m.\u001b[0m\u001b[0mpyplot\u001b[0m \u001b[0;32mas\u001b[0m \u001b[0mplt\u001b[0m\u001b[0;34m\u001b[0m\u001b[0;34m\u001b[0m\u001b[0m\n\u001b[1;32m      2\u001b[0m \u001b[0;32mimport\u001b[0m \u001b[0mnumpy\u001b[0m \u001b[0;32mas\u001b[0m \u001b[0mnp\u001b[0m\u001b[0;34m\u001b[0m\u001b[0;34m\u001b[0m\u001b[0m\n\u001b[0;32m----> 3\u001b[0;31m \u001b[0;32mimport\u001b[0m \u001b[0mMDAnalysis\u001b[0m \u001b[0;32mas\u001b[0m \u001b[0mmda\u001b[0m\u001b[0;34m\u001b[0m\u001b[0;34m\u001b[0m\u001b[0m\n\u001b[0m\u001b[1;32m      4\u001b[0m \u001b[0;32mfrom\u001b[0m \u001b[0mMDAnalysis\u001b[0m\u001b[0;34m.\u001b[0m\u001b[0manalysis\u001b[0m\u001b[0;34m.\u001b[0m\u001b[0mmsd\u001b[0m \u001b[0;32mimport\u001b[0m \u001b[0mEinsteinMSD\u001b[0m\u001b[0;34m\u001b[0m\u001b[0;34m\u001b[0m\u001b[0m\n\u001b[1;32m      5\u001b[0m \u001b[0;34m\u001b[0m\u001b[0m\n",
      "\u001b[0;32m~/.local/lib/python3.8/site-packages/MDAnalysis/__init__.py\u001b[0m in \u001b[0;36m<module>\u001b[0;34m\u001b[0m\n\u001b[1;32m    191\u001b[0m )\n\u001b[1;32m    192\u001b[0m \u001b[0;34m\u001b[0m\u001b[0m\n\u001b[0;32m--> 193\u001b[0;31m \u001b[0;32mfrom\u001b[0m \u001b[0;34m.\u001b[0m\u001b[0mlib\u001b[0m \u001b[0;32mimport\u001b[0m \u001b[0mlog\u001b[0m\u001b[0;34m\u001b[0m\u001b[0;34m\u001b[0m\u001b[0m\n\u001b[0m\u001b[1;32m    194\u001b[0m \u001b[0;32mfrom\u001b[0m \u001b[0;34m.\u001b[0m\u001b[0mlib\u001b[0m\u001b[0;34m.\u001b[0m\u001b[0mlog\u001b[0m \u001b[0;32mimport\u001b[0m \u001b[0mstart_logging\u001b[0m\u001b[0;34m,\u001b[0m \u001b[0mstop_logging\u001b[0m\u001b[0;34m\u001b[0m\u001b[0;34m\u001b[0m\u001b[0m\n\u001b[1;32m    195\u001b[0m \u001b[0;34m\u001b[0m\u001b[0m\n",
      "\u001b[0;32m~/.local/lib/python3.8/site-packages/MDAnalysis/lib/__init__.py\u001b[0m in \u001b[0;36m<module>\u001b[0;34m\u001b[0m\n\u001b[1;32m     32\u001b[0m \u001b[0;34m\u001b[0m\u001b[0m\n\u001b[1;32m     33\u001b[0m \u001b[0;32mfrom\u001b[0m \u001b[0;34m.\u001b[0m \u001b[0;32mimport\u001b[0m \u001b[0mlog\u001b[0m\u001b[0;34m\u001b[0m\u001b[0;34m\u001b[0m\u001b[0m\n\u001b[0;32m---> 34\u001b[0;31m \u001b[0;32mfrom\u001b[0m \u001b[0;34m.\u001b[0m \u001b[0;32mimport\u001b[0m \u001b[0mtransformations\u001b[0m\u001b[0;34m\u001b[0m\u001b[0;34m\u001b[0m\u001b[0m\n\u001b[0m\u001b[1;32m     35\u001b[0m \u001b[0;32mfrom\u001b[0m \u001b[0;34m.\u001b[0m \u001b[0;32mimport\u001b[0m \u001b[0mutil\u001b[0m\u001b[0;34m\u001b[0m\u001b[0;34m\u001b[0m\u001b[0m\n\u001b[1;32m     36\u001b[0m \u001b[0;32mfrom\u001b[0m \u001b[0;34m.\u001b[0m \u001b[0;32mimport\u001b[0m \u001b[0mmdamath\u001b[0m\u001b[0;34m\u001b[0m\u001b[0;34m\u001b[0m\u001b[0m\n",
      "\u001b[0;32m~/.local/lib/python3.8/site-packages/MDAnalysis/lib/transformations.py\u001b[0m in \u001b[0;36m<module>\u001b[0;34m\u001b[0m\n\u001b[1;32m    171\u001b[0m \u001b[0;32mfrom\u001b[0m \u001b[0mnumpy\u001b[0m\u001b[0;34m.\u001b[0m\u001b[0mlinalg\u001b[0m \u001b[0;32mimport\u001b[0m \u001b[0mnorm\u001b[0m\u001b[0;34m\u001b[0m\u001b[0;34m\u001b[0m\u001b[0m\n\u001b[1;32m    172\u001b[0m \u001b[0;34m\u001b[0m\u001b[0m\n\u001b[0;32m--> 173\u001b[0;31m \u001b[0;32mfrom\u001b[0m \u001b[0;34m.\u001b[0m\u001b[0mmdamath\u001b[0m \u001b[0;32mimport\u001b[0m \u001b[0mangle\u001b[0m \u001b[0;32mas\u001b[0m \u001b[0mvecangle\u001b[0m\u001b[0;34m\u001b[0m\u001b[0;34m\u001b[0m\u001b[0m\n\u001b[0m\u001b[1;32m    174\u001b[0m \u001b[0;34m\u001b[0m\u001b[0m\n\u001b[1;32m    175\u001b[0m \u001b[0;32mdef\u001b[0m \u001b[0midentity_matrix\u001b[0m\u001b[0;34m(\u001b[0m\u001b[0;34m)\u001b[0m\u001b[0;34m:\u001b[0m\u001b[0;34m\u001b[0m\u001b[0;34m\u001b[0m\u001b[0m\n",
      "\u001b[0;32m~/.local/lib/python3.8/site-packages/MDAnalysis/lib/mdamath.py\u001b[0m in \u001b[0;36m<module>\u001b[0;34m\u001b[0m\n\u001b[1;32m     61\u001b[0m \u001b[0;34m\u001b[0m\u001b[0m\n\u001b[1;32m     62\u001b[0m \u001b[0;32mfrom\u001b[0m \u001b[0;34m.\u001b[0m\u001b[0;34m.\u001b[0m\u001b[0mexceptions\u001b[0m \u001b[0;32mimport\u001b[0m \u001b[0mNoDataError\u001b[0m\u001b[0;34m\u001b[0m\u001b[0;34m\u001b[0m\u001b[0m\n\u001b[0;32m---> 63\u001b[0;31m \u001b[0;32mfrom\u001b[0m \u001b[0;34m.\u001b[0m \u001b[0;32mimport\u001b[0m \u001b[0mutil\u001b[0m\u001b[0;34m\u001b[0m\u001b[0;34m\u001b[0m\u001b[0m\n\u001b[0m\u001b[1;32m     64\u001b[0m from ._cutil import (make_whole, find_fragments, _sarrus_det_single,\n\u001b[1;32m     65\u001b[0m                      _sarrus_det_multiple)\n",
      "\u001b[0;32m~/.local/lib/python3.8/site-packages/MDAnalysis/lib/util.py\u001b[0m in \u001b[0;36m<module>\u001b[0;34m\u001b[0m\n\u001b[1;32m    218\u001b[0m \u001b[0;34m\u001b[0m\u001b[0m\n\u001b[1;32m    219\u001b[0m \u001b[0;32mtry\u001b[0m\u001b[0;34m:\u001b[0m\u001b[0;34m\u001b[0m\u001b[0;34m\u001b[0m\u001b[0m\n\u001b[0;32m--> 220\u001b[0;31m     \u001b[0;32mfrom\u001b[0m \u001b[0;34m.\u001b[0m\u001b[0m_cutil\u001b[0m \u001b[0;32mimport\u001b[0m \u001b[0munique_int_1d\u001b[0m\u001b[0;34m\u001b[0m\u001b[0;34m\u001b[0m\u001b[0m\n\u001b[0m\u001b[1;32m    221\u001b[0m \u001b[0;32mexcept\u001b[0m \u001b[0mImportError\u001b[0m\u001b[0;34m:\u001b[0m\u001b[0;34m\u001b[0m\u001b[0;34m\u001b[0m\u001b[0m\n\u001b[1;32m    222\u001b[0m     raise ImportError(\"MDAnalysis not installed properly. \"\n",
      "\u001b[0;32m~/.local/lib/python3.8/site-packages/MDAnalysis/lib/_cutil.pyx\u001b[0m in \u001b[0;36minit MDAnalysis.lib._cutil\u001b[0;34m()\u001b[0m\n",
      "\u001b[0;31mValueError\u001b[0m: numpy.ndarray size changed, may indicate binary incompatibility. Expected 88 from C header, got 80 from PyObject"
     ]
    }
   ],
   "source": [
    "import matplotlib.pyplot as plt\n",
    "import numpy as np\n",
    "import MDAnalysis as mda\n",
    "from MDAnalysis.analysis.msd import EinsteinMSD\n",
    "\n",
    "universe = mda.Universe('output2.gro','trajectory2.xtc')\n",
    "oxygen_atoms = universe.select_atoms('name OH2')  # Adjust selection depending on naming convention in your trajectory\n",
    "sodium = universe.select_atoms('name SOD')  # adjust atom name if different\n",
    "chloride  = universe.select_atoms('name CLA')\n",
    "\n",
    "msd_water_oxygens = EinsteinMSD(oxygen_atoms,msd_type='xyz',fft=True).run()\n",
    "msd_sodium = EinsteinMSD(sodium,msd_type='xyz',fft=True).run()\n",
    "msd_chloride = EinsteinMSD(chloride,msd_type='xyz',fft=True).run()\n",
    "fig=plt.figure()\n",
    "\n",
    "plt.plot(msd_water_oxygens.times,msd_water_oxygens.results.timeseries,label='water_oxygens')\n",
    "plt.plot(msd_sodium.times,msd_sodium.results.timeseries,label='sodium')\n",
    "plt.plot(msd_chloride.times,msd_chloride.results.timeseries,label='chloride')\n",
    "plt.xlabel('Time (ps)')\n",
    "plt.ylabel('MSD (A^2)')\n",
    "plt.legend()\n",
    "\n",
    "# Save the plot to a file (optional)\n",
    "plt.savefig('MSD_vs_Time.png')\n",
    "plt.show()"
   ]
  },
  {
   "cell_type": "code",
   "execution_count": null,
   "metadata": {},
   "outputs": [],
   "source": []
  },
  {
   "cell_type": "code",
   "execution_count": null,
   "metadata": {},
   "outputs": [],
   "source": []
  },
  {
   "cell_type": "code",
   "execution_count": null,
   "metadata": {},
   "outputs": [],
   "source": []
  }
 ],
 "metadata": {
  "kernelspec": {
   "display_name": "Python 3",
   "language": "python",
   "name": "python3"
  },
  "language_info": {
   "codemirror_mode": {
    "name": "ipython",
    "version": 3
   },
   "file_extension": ".py",
   "mimetype": "text/x-python",
   "name": "python",
   "nbconvert_exporter": "python",
   "pygments_lexer": "ipython3",
   "version": "3.8.6"
  }
 },
 "nbformat": 4,
 "nbformat_minor": 4
}
